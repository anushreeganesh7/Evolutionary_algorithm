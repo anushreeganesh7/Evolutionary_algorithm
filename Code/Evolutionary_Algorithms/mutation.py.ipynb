{
 "cells": [
  {
   "cell_type": "code",
   "execution_count": 3,
   "id": "5cf4395d",
   "metadata": {},
   "outputs": [
    {
     "ename": "ModuleNotFoundError",
     "evalue": "No module named 'evolutionary'",
     "output_type": "error",
     "traceback": [
      "\u001b[0;31m---------------------------------------------------------------------------\u001b[0m",
      "\u001b[0;31mModuleNotFoundError\u001b[0m                       Traceback (most recent call last)",
      "Cell \u001b[0;32mIn [3], line 1\u001b[0m\n\u001b[0;32m----> 1\u001b[0m \u001b[38;5;28;01mfrom\u001b[39;00m \u001b[38;5;21;01mevolutionary\u001b[39;00m\u001b[38;5;21;01m.\u001b[39;00m\u001b[38;5;21;01mpy\u001b[39;00m\u001b[38;5;21;01m.\u001b[39;00m\u001b[38;5;21;01mipynb\u001b[39;00m \u001b[38;5;28;01mimport\u001b[39;00m load_word_list, generate_population, select_parents\n\u001b[1;32m      2\u001b[0m \u001b[38;5;28;01mfrom\u001b[39;00m \u001b[38;5;21;01mevolutionary\u001b[39;00m\u001b[38;5;21;01m.\u001b[39;00m\u001b[38;5;21;01mpy\u001b[39;00m\u001b[38;5;21;01m.\u001b[39;00m\u001b[38;5;21;01mipynb\u001b[39;00m \u001b[38;5;28;01mimport\u001b[39;00m crossover, mutate, calculate_fitness\n\u001b[1;32m      3\u001b[0m \u001b[38;5;28;01mimport\u001b[39;00m \u001b[38;5;21;01mnumpy\u001b[39;00m \u001b[38;5;28;01mas\u001b[39;00m \u001b[38;5;21;01mnp\u001b[39;00m\n",
      "\u001b[0;31mModuleNotFoundError\u001b[0m: No module named 'evolutionary'"
     ]
    }
   ],
   "source": [
    "from evolutionary.py.ipynb import load_word_list, generate_population, select_parents\n",
    "from evolutionary.py.ipynb import crossover, mutate, calculate_fitness\n",
    "import numpy as np\n",
    "import random\n",
    "\n",
    "\n",
    "def change_mutation_rate(generation, strategy, num_generations, N,\n",
    "                         population, target_word, kappa=1, beta=1):\n",
    "    if strategy == \"deterministic\":\n",
    "        mutation_rate = 1/N * (1 + ((generation * (N - 1)) / num_generations))\n",
    "    if strategy == \"num_correct\":\n",
    "        fitnesses = [calculate_fitness(target_word, x)[0] for x in population]\n",
    "        max_fit = max(fitnesses)\n",
    "        mutation_rate = 1/(N-max_fit)\n",
    "    if strategy == \"Wang-Tang\":\n",
    "        fitnesses = [calculate_fitness(target_word, x)[0] for x in population]\n",
    "        max_fit = np.max(fitnesses) + 1\n",
    "        min_fit = np.min(fitnesses) + 1\n",
    "        avg_fit = np.mean(fitnesses) + 1\n",
    "        mutation_rate = 1/N * (1 + beta * (avg_fit**kappa / ((max_fit - min_fit)**kappa + avg_fit**kappa)))\n",
    "    return mutation_rate\n",
    "\n",
    "\n",
    "def run(word_list, target_word, population_size, mutation_rate,\n",
    "        num_generations, adaptive_strategy=\"none\"):\n",
    "    population = generate_population(word_list, population_size)\n",
    "    N = len(population[0])\n",
    "    for generation in range(num_generations):\n",
    "        if adaptive_strategy != \"none\":\n",
    "            mutation_rate = change_mutation_rate(generation, adaptive_strategy,\n",
    "                                                 num_generations, N, population, target_word)\n",
    "            print(mutation_rate)\n",
    "        parents = select_parents(population, 2)\n",
    "        offspring = []\n",
    "        while len(offspring) < population_size:\n",
    "            parent1, parent2 = random.sample(parents, 2)\n",
    "            child1, child2 = crossover(parent1, parent2)\n",
    "            child1 = mutate(child1, mutation_rate, target_word)\n",
    "            child2 = mutate(child2, mutation_rate, target_word)\n",
    "            offspring.extend([child1, child2])\n",
    "        population = offspring\n",
    "        best_guess = max(population, key=lambda x: calculate_fitness(target_word, x))\n",
    "        print(f\"Generation {generation+1}, Best Guess: {best_guess}, Fitness: {calculate_fitness(target_word, best_guess)}\")\n",
    "        if best_guess == target_word:\n",
    "            print(\"Target word founnd\")\n",
    "            break\n",
    "\n",
    "\n",
    "word_list = load_word_list('./3-letter-words.txt')\n",
    "TARGET_WORD = np.random.choice(word_list)\n",
    "print(TARGET_WORD)\n",
    "run(word_list, TARGET_WORD, 2, 1/3, 100, adaptive_strategy=\"Wang-Tang\")\n"
   ]
  },
  {
   "cell_type": "code",
   "execution_count": null,
   "id": "33fce7a0",
   "metadata": {},
   "outputs": [],
   "source": []
  }
 ],
 "metadata": {
  "kernelspec": {
   "display_name": "Python 3 (ipykernel)",
   "language": "python",
   "name": "python3"
  },
  "language_info": {
   "codemirror_mode": {
    "name": "ipython",
    "version": 3
   },
   "file_extension": ".py",
   "mimetype": "text/x-python",
   "name": "python",
   "nbconvert_exporter": "python",
   "pygments_lexer": "ipython3",
   "version": "3.10.7"
  }
 },
 "nbformat": 4,
 "nbformat_minor": 5
}
